{
 "cells": [
  {
   "cell_type": "markdown",
   "metadata": {},
   "source": [
    "# Projet Titanic - Lucas & Yasmina \n",
    "\n",
    "## Introduction\n",
    "\n",
    "L'objectif de ce projet est de prédire si les voyageurs à bord du Titanic ont survécu lors du naufrage. Il s'agit d'un projet issu de la plateforme Kaggle. \n",
    "\n",
    "Pour ce faire, nous disposons d'un échantillon train, et d'un échantillon test (sous kaggle). \n",
    "\n"
   ]
  },
  {
   "cell_type": "markdown",
   "metadata": {},
   "source": [
    "## 1- Importation des librairies nécessaire\n",
    "\n",
    "Pour commencer nous allons importer les librairies qui seront nécessaire à l'analyse. "
   ]
  },
  {
   "cell_type": "code",
   "execution_count": 1,
   "metadata": {},
   "outputs": [
    {
     "name": "stdout",
     "output_type": "stream",
     "text": [
      "Requirement already satisfied: missingpy in /Users/yasmina/opt/anaconda3/lib/python3.8/site-packages (0.2.0)\n",
      "Note: you may need to restart the kernel to use updated packages.\n"
     ]
    }
   ],
   "source": [
    "pip install missingpy\n"
   ]
  },
  {
   "cell_type": "code",
   "execution_count": 2,
   "metadata": {},
   "outputs": [
    {
     "name": "stdout",
     "output_type": "stream",
     "text": [
      "Requirement already satisfied: xgboost in /Users/yasmina/opt/anaconda3/lib/python3.8/site-packages (1.3.1)\n",
      "Requirement already satisfied: scipy in /Users/yasmina/opt/anaconda3/lib/python3.8/site-packages (from xgboost) (1.5.0)\n",
      "Requirement already satisfied: numpy in /Users/yasmina/opt/anaconda3/lib/python3.8/site-packages (from xgboost) (1.18.5)\n",
      "Note: you may need to restart the kernel to use updated packages.\n"
     ]
    }
   ],
   "source": [
    "pip install xgboost"
   ]
  },
  {
   "cell_type": "code",
   "execution_count": 3,
   "metadata": {},
   "outputs": [
    {
     "name": "stderr",
     "output_type": "stream",
     "text": [
      "/Users/yasmina/opt/anaconda3/lib/python3.8/site-packages/sklearn/utils/deprecation.py:143: FutureWarning: The sklearn.neighbors.base module is  deprecated in version 0.22 and will be removed in version 0.24. The corresponding classes / functions should instead be imported from sklearn.neighbors. Anything that cannot be imported from sklearn.neighbors is now part of the private API.\n",
      "  warnings.warn(message, FutureWarning)\n"
     ]
    }
   ],
   "source": [
    "import os\n",
    "import sys\n",
    "# On ajoute un chemin local vers un environnement virtuel qui contient notamment tensorflow\n",
    "#sys.path.append('C:/Users/Lucas/Desktop/Python/Projet.py/Lib/site-packages')\n",
    "\n",
    "import sklearn\n",
    "import matplotlib.pyplot as plt\n",
    "import pandas as pd\n",
    "import numpy as np\n",
    "import seaborn as sns\n",
    "from sklearn.linear_model import LogisticRegression\n",
    "from sklearn import metrics\n",
    "from sklearn.tree import DecisionTreeClassifier\n",
    "from sklearn.ensemble import RandomForestClassifier, GradientBoostingClassifier\n",
    "from sklearn.model_selection import GridSearchCV\n",
    "import tensorflow as tf\n",
    "from tensorflow import keras\n",
    "from missingpy import MissForest"
   ]
  },
  {
   "cell_type": "code",
   "execution_count": null,
   "metadata": {},
   "outputs": [],
   "source": [
    "import xgboost as xgb "
   ]
  },
  {
   "cell_type": "code",
   "execution_count": 5,
   "metadata": {},
   "outputs": [],
   "source": [
    "# On modifie les options d'affichage console pour pouvoir afficher les DataFrames en entier\n",
    "pd.options.display.max_rows = 999"
   ]
  },
  {
   "cell_type": "markdown",
   "metadata": {},
   "source": [
    "## 2 - Importation des données d'entrainement train et test\n",
    "\n",
    "Nous importons les jeux de données train et test, mis à notre disposition. "
   ]
  },
  {
   "cell_type": "code",
   "execution_count": 6,
   "metadata": {},
   "outputs": [],
   "source": [
    "path = '/Users/yasmina/Documents/Master 2/Machine Learning sous Python/data_projet_rendre/train.csv'\n",
    "path_test = '/Users/yasmina/Documents/Master 2/Machine Learning sous Python/data_projet_rendre/test.csv'\n",
    "\n",
    "data_train = pd.read_csv(path)\n",
    "data_test = pd.read_csv(path_test)"
   ]
  },
  {
   "cell_type": "markdown",
   "metadata": {},
   "source": [
    "Les données sont affichées ci-dessous."
   ]
  },
  {
   "cell_type": "code",
   "execution_count": 7,
   "metadata": {},
   "outputs": [
    {
     "name": "stdout",
     "output_type": "stream",
     "text": [
      "   PassengerId  Survived  Pclass  \\\n",
      "0            1         0       3   \n",
      "1            2         1       1   \n",
      "2            3         1       3   \n",
      "3            4         1       1   \n",
      "4            5         0       3   \n",
      "\n",
      "                                                Name     Sex   Age  SibSp  \\\n",
      "0                            Braund, Mr. Owen Harris    male  22.0      1   \n",
      "1  Cumings, Mrs. John Bradley (Florence Briggs Th...  female  38.0      1   \n",
      "2                             Heikkinen, Miss. Laina  female  26.0      0   \n",
      "3       Futrelle, Mrs. Jacques Heath (Lily May Peel)  female  35.0      1   \n",
      "4                           Allen, Mr. William Henry    male  35.0      0   \n",
      "\n",
      "   Parch            Ticket     Fare Cabin Embarked  \n",
      "0      0         A/5 21171   7.2500   NaN        S  \n",
      "1      0          PC 17599  71.2833   C85        C  \n",
      "2      0  STON/O2. 3101282   7.9250   NaN        S  \n",
      "3      0            113803  53.1000  C123        S  \n",
      "4      0            373450   8.0500   NaN        S  \n",
      "   PassengerId  Pclass                                          Name     Sex  \\\n",
      "0          892       3                              Kelly, Mr. James    male   \n",
      "1          893       3              Wilkes, Mrs. James (Ellen Needs)  female   \n",
      "2          894       2                     Myles, Mr. Thomas Francis    male   \n",
      "3          895       3                              Wirz, Mr. Albert    male   \n",
      "4          896       3  Hirvonen, Mrs. Alexander (Helga E Lindqvist)  female   \n",
      "\n",
      "    Age  SibSp  Parch   Ticket     Fare Cabin Embarked  \n",
      "0  34.5      0      0   330911   7.8292   NaN        Q  \n",
      "1  47.0      1      0   363272   7.0000   NaN        S  \n",
      "2  62.0      0      0   240276   9.6875   NaN        Q  \n",
      "3  27.0      0      0   315154   8.6625   NaN        S  \n",
      "4  22.0      1      1  3101298  12.2875   NaN        S  \n"
     ]
    }
   ],
   "source": [
    "print(data_train.head())\n",
    "print(data_test.head())"
   ]
  },
  {
   "cell_type": "markdown",
   "metadata": {},
   "source": [
    "## 3 - Manipulation et analyse des variables\n",
    "\n",
    "Nous allons créer une boucle afin de convertir la colonne cabine en 1 si l'individu a une cabine 0 sinon."
   ]
  },
  {
   "cell_type": "markdown",
   "metadata": {},
   "source": [
    "### 3.1 - Visualisation \n",
    "\n",
    "Pour commencer nous allons visualiser la fréquence de la variable à prédire, à savoir \"Survived\". "
   ]
  },
  {
   "cell_type": "code",
   "execution_count": 8,
   "metadata": {},
   "outputs": [
    {
     "data": {
      "text/plain": [
       "0    0.616162\n",
       "1    0.383838\n",
       "Name: Survived, dtype: float64"
      ]
     },
     "execution_count": 8,
     "metadata": {},
     "output_type": "execute_result"
    }
   ],
   "source": [
    "data_train.Survived.value_counts(normalize = True)"
   ]
  },
  {
   "cell_type": "markdown",
   "metadata": {},
   "source": [
    "Voici dans le diagramme suivant la répartition de la variable à prédire Survived"
   ]
  },
  {
   "cell_type": "code",
   "execution_count": 9,
   "metadata": {},
   "outputs": [
    {
     "data": {
      "image/png": "[encoded data removed]",
      "text/plain": [
       "<Figure size 432x288 with 1 Axes>"
      ]
     },
     "metadata": {},
     "output_type": "display_data"
    }
   ],
   "source": [
    "plt.pie(\n",
    "    data_train.Survived.value_counts(normalize = True).values,\n",
    "    labels =  data_train.Survived.value_counts(normalize = True).index,\n",
    ")\n",
    "plt.title(\"Répartition de la variable à prédire Survived\")\n",
    "plt.show()"
   ]
  },
  {
   "cell_type": "markdown",
   "metadata": {},
   "source": [
    "### 3.2 - Transformation des variables"
   ]
  },
  {
   "cell_type": "code",
   "execution_count": 10,
   "metadata": {},
   "outputs": [
    {
     "name": "stderr",
     "output_type": "stream",
     "text": [
      "<ipython-input-10-111330d8bab4>:3: SettingWithCopyWarning: \n",
      "A value is trying to be set on a copy of a slice from a DataFrame\n",
      "\n",
      "See the caveats in the documentation: https://pandas.pydata.org/pandas-docs/stable/user_guide/indexing.html#returning-a-view-versus-a-copy\n",
      "  data_train['Cabin'][i] = 0\n",
      "<ipython-input-10-111330d8bab4>:5: SettingWithCopyWarning: \n",
      "A value is trying to be set on a copy of a slice from a DataFrame\n",
      "\n",
      "See the caveats in the documentation: https://pandas.pydata.org/pandas-docs/stable/user_guide/indexing.html#returning-a-view-versus-a-copy\n",
      "  data_train['Cabin'][i] = 1\n",
      "<ipython-input-10-111330d8bab4>:9: SettingWithCopyWarning: \n",
      "A value is trying to be set on a copy of a slice from a DataFrame\n",
      "\n",
      "See the caveats in the documentation: https://pandas.pydata.org/pandas-docs/stable/user_guide/indexing.html#returning-a-view-versus-a-copy\n",
      "  data_test['Cabin'][i] = 0\n",
      "<ipython-input-10-111330d8bab4>:11: SettingWithCopyWarning: \n",
      "A value is trying to be set on a copy of a slice from a DataFrame\n",
      "\n",
      "See the caveats in the documentation: https://pandas.pydata.org/pandas-docs/stable/user_guide/indexing.html#returning-a-view-versus-a-copy\n",
      "  data_test['Cabin'][i] = 1\n"
     ]
    }
   ],
   "source": [
    "for i in range(0, len(data_train['Cabin'])):\n",
    "    if type(data_train['Cabin'][i]) == float:\n",
    "        data_train['Cabin'][i] = 0\n",
    "    else:\n",
    "        data_train['Cabin'][i] = 1\n",
    "        \n",
    "for i in range(0, len(data_test['Cabin'])):\n",
    "    if type(data_test['Cabin'][i]) == float:\n",
    "        data_test['Cabin'][i] = 0\n",
    "    else:\n",
    "        data_test['Cabin'][i] = 1"
   ]
  },
  {
   "cell_type": "markdown",
   "metadata": {},
   "source": [
    "### 3.3 - Representation graphiques\n",
    "\n",
    "Dans le jeu de données train, nous allons resprésenter les graphiques des fréquences et distributions. "
   ]
  },
  {
   "cell_type": "code",
   "execution_count": 11,
   "metadata": {},
   "outputs": [
    {
     "name": "stderr",
     "output_type": "stream",
     "text": [
      "/Users/yasmina/opt/anaconda3/lib/python3.8/site-packages/numpy/lib/histograms.py:839: RuntimeWarning: invalid value encountered in greater_equal\n",
      "  keep = (tmp_a >= first_edge)\n",
      "/Users/yasmina/opt/anaconda3/lib/python3.8/site-packages/numpy/lib/histograms.py:840: RuntimeWarning: invalid value encountered in less_equal\n",
      "  keep &= (tmp_a <= last_edge)\n"
     ]
    },
    {
     "data": {
      "image/png": "[encoded data removed]",
      "text/plain": [
       "<Figure size 864x576 with 9 Axes>"
      ]
     },
     "metadata": {
      "needs_background": "light"
     },
     "output_type": "display_data"
    }
   ],
   "source": [
    "fig, axs = plt.subplots(3, 3, figsize = (12,8))\n",
    "\n",
    "fig.suptitle('Distributions')\n",
    "\n",
    "axs[0, 0].hist(data_train['Survived'])\n",
    "axs[0, 0].set_title('Distribution de Y')\n",
    "axs[0, 0].set_ylabel('count')\n",
    "axs[0, 0].set_xlabel('Survived')\n",
    "axs[0, 0].set_xticks([0, 1])\n",
    "\n",
    "axs[0, 1].hist(data_train['Sex'])\n",
    "axs[0, 1].set_title('Distribution de Sex')\n",
    "axs[0, 1].set_ylabel('count')\n",
    "axs[0, 1].set_xlabel('Sex')\n",
    "\n",
    "axs[0, 2].hist(data_train['Pclass'])\n",
    "axs[0, 2].set_title('Distribution de Pclass')\n",
    "axs[0, 2].set_ylabel('count')\n",
    "axs[0, 2].set_xlabel('Classe')\n",
    "axs[0, 2].set_xticks([1, 2, 3])\n",
    "\n",
    "axs[1, 0].hist(data_train['Age'], bins = 40)\n",
    "axs[1, 0].set_title('Distribution de Age')\n",
    "axs[1, 0].set_xlabel('Age')\n",
    "axs[1, 0].set_ylabel('Fréquence')\n",
    "\n",
    "axs[1, 1].hist(data_train['SibSp'])\n",
    "axs[1, 1].set_title('Distribution de SibSp')\n",
    "axs[1, 1].set_xlabel('SibSp')\n",
    "axs[1, 1].set_ylabel('Fréquence')\n",
    "\n",
    "axs[1, 2].hist(data_train['Parch'])\n",
    "axs[1, 2].set_title('Distribution de parch')\n",
    "axs[1, 2].set_xlabel('parch')\n",
    "axs[1, 2].set_ylabel('Fréquence')\n",
    "\n",
    "axs[2, 0].hist(data_train['Fare'])\n",
    "axs[2, 0].set_title('Distribution de fare')\n",
    "axs[2, 0].set_xlabel('fare')\n",
    "axs[2, 0].set_ylabel('Fréquence')\n",
    "\n",
    "axs[2, 1].hist(data_train['Fare'])\n",
    "axs[2, 1].set_title('Distribution de fare')\n",
    "axs[2, 1].set_xlabel('fare')\n",
    "axs[2, 1].set_ylabel('Fréquence')\n",
    "\n",
    "axs[2, 2].hist(data_train['Cabin'])\n",
    "axs[2, 2].set_title('Distribution de Cabin')\n",
    "axs[2, 2].set_xlabel('Cabin')\n",
    "axs[2, 2].set_ylabel('Fréquence')\n",
    "\n",
    "fig.subplots_adjust(hspace = 0.5, wspace = 0.5) \n",
    "\n",
    "plt.show()"
   ]
  },
  {
   "cell_type": "markdown",
   "metadata": {},
   "source": [
    "Les distributions ne sont pas parfaitement équilibrées. on constate par exemple qu'il y'a plus de passagers sans cabine, ou encore que la 3e classe est sur-représentée. Bien que ces disparités puissent légèrement fausser les estimations, cela ne devrait pas poser problème. La variable à expliquer est également asymétriques, avec d'avantage de passager qui n'ont pas survécus. "
   ]
  },
  {
   "cell_type": "markdown",
   "metadata": {},
   "source": [
    "### 3.4 - Détection des valeurs manquantes\n",
    "\n",
    "Nous souhaitons à présent vérifier s'il y a des observations manquantes (NAs). Pour ce faire, nous utilisons les commandes isna().sum(). \n",
    "Nous constatons que certaines variables contiennent des \"NAs\" (Age, Embarked et Fare)"
   ]
  },
  {
   "cell_type": "code",
   "execution_count": 12,
   "metadata": {},
   "outputs": [
    {
     "name": "stdout",
     "output_type": "stream",
     "text": [
      "PassengerId      0\n",
      "Survived         0\n",
      "Pclass           0\n",
      "Name             0\n",
      "Sex              0\n",
      "Age            177\n",
      "SibSp            0\n",
      "Parch            0\n",
      "Ticket           0\n",
      "Fare             0\n",
      "Cabin            0\n",
      "Embarked         2\n",
      "dtype: int64\n",
      "PassengerId     0\n",
      "Pclass          0\n",
      "Name            0\n",
      "Sex             0\n",
      "Age            86\n",
      "SibSp           0\n",
      "Parch           0\n",
      "Ticket          0\n",
      "Fare            1\n",
      "Cabin           0\n",
      "Embarked        0\n",
      "dtype: int64\n"
     ]
    }
   ],
   "source": [
    "print(data_train.isna().sum())\n",
    "print(data_test.isna().sum())"
   ]
  },
  {
   "cell_type": "markdown",
   "metadata": {},
   "source": [
    "La variable \"Embarked\" n'est pas encore recodé en variable numérique. De ce fait, il nous est impossible de créer une boucle pour procéder au nettoyage de cette dernière. Etant donné que nous avons seulement 2 valeurs manquantes, nous décidons de les retirer de façon \"manuelle\". C'est à dire que nous localisons l'indice ou les valeurs sont manquantes, et nous supprimons la ligne correspondante. \n",
    "NAs est une liste qui contient les indices de lignes contenant des NAs dans le DataFrame"
   ]
  },
  {
   "cell_type": "code",
   "execution_count": 13,
   "metadata": {},
   "outputs": [
    {
     "name": "stdout",
     "output_type": "stream",
     "text": [
      "0        S\n",
      "1        C\n",
      "2        S\n",
      "3        S\n",
      "4        S\n",
      "5        Q\n",
      "6        S\n",
      "7        S\n",
      "8        S\n",
      "9        C\n",
      "10       S\n",
      "11       S\n",
      "12       S\n",
      "13       S\n",
      "14       S\n",
      "15       S\n",
      "16       Q\n",
      "17       S\n",
      "18       S\n",
      "19       C\n",
      "20       S\n",
      "21       S\n",
      "22       Q\n",
      "23       S\n",
      "24       S\n",
      "25       S\n",
      "26       C\n",
      "27       S\n",
      "28       Q\n",
      "29       S\n",
      "30       C\n",
      "31       C\n",
      "32       Q\n",
      "33       S\n",
      "34       C\n",
      "35       S\n",
      "36       C\n",
      "37       S\n",
      "38       S\n",
      "39       C\n",
      "40       S\n",
      "41       S\n",
      "42       C\n",
      "43       C\n",
      "44       Q\n",
      "45       S\n",
      "46       Q\n",
      "47       Q\n",
      "48       C\n",
      "49       S\n",
      "50       S\n",
      "51       S\n",
      "52       C\n",
      "53       S\n",
      "54       C\n",
      "55       S\n",
      "56       S\n",
      "57       C\n",
      "58       S\n",
      "59       S\n",
      "60       C\n",
      "61     NaN\n",
      "62       S\n",
      "63       S\n",
      "64       C\n",
      "65       C\n",
      "66       S\n",
      "67       S\n",
      "68       S\n",
      "69       S\n",
      "70       S\n",
      "71       S\n",
      "72       S\n",
      "73       C\n",
      "74       S\n",
      "75       S\n",
      "76       S\n",
      "77       S\n",
      "78       S\n",
      "79       S\n",
      "80       S\n",
      "81       S\n",
      "82       Q\n",
      "83       S\n",
      "84       S\n",
      "85       S\n",
      "86       S\n",
      "87       S\n",
      "88       S\n",
      "89       S\n",
      "90       S\n",
      "91       S\n",
      "92       S\n",
      "93       S\n",
      "94       S\n",
      "95       S\n",
      "96       C\n",
      "97       C\n",
      "98       S\n",
      "99       S\n",
      "100      S\n",
      "101      S\n",
      "102      S\n",
      "103      S\n",
      "104      S\n",
      "105      S\n",
      "106      S\n",
      "107      S\n",
      "108      S\n",
      "109      Q\n",
      "110      S\n",
      "111      C\n",
      "112      S\n",
      "113      S\n",
      "114      C\n",
      "115      S\n",
      "116      Q\n",
      "117      S\n",
      "118      C\n",
      "119      S\n",
      "120      S\n",
      "121      S\n",
      "122      C\n",
      "123      S\n",
      "124      S\n",
      "125      C\n",
      "126      Q\n",
      "127      S\n",
      "128      C\n",
      "129      S\n",
      "130      C\n",
      "131      S\n",
      "132      S\n",
      "133      S\n",
      "134      S\n",
      "135      C\n",
      "136      S\n",
      "137      S\n",
      "138      S\n",
      "139      C\n",
      "140      C\n",
      "141      S\n",
      "142      S\n",
      "143      Q\n",
      "144      S\n",
      "145      S\n",
      "146      S\n",
      "147      S\n",
      "148      S\n",
      "149      S\n",
      "150      S\n",
      "151      S\n",
      "152      S\n",
      "153      S\n",
      "154      S\n",
      "155      C\n",
      "156      Q\n",
      "157      S\n",
      "158      S\n",
      "159      S\n",
      "160      S\n",
      "161      S\n",
      "162      S\n",
      "163      S\n",
      "164      S\n",
      "165      S\n",
      "166      S\n",
      "167      S\n",
      "168      S\n",
      "169      S\n",
      "170      S\n",
      "171      Q\n",
      "172      S\n",
      "173      S\n",
      "174      C\n",
      "175      S\n",
      "176      S\n",
      "177      C\n",
      "178      S\n",
      "179      S\n",
      "180      S\n",
      "181      C\n",
      "182      S\n",
      "183      S\n",
      "184      S\n",
      "185      S\n",
      "186      Q\n",
      "187      S\n",
      "188      Q\n",
      "189      S\n",
      "190      S\n",
      "191      S\n",
      "192      S\n",
      "193      S\n",
      "194      C\n",
      "195      C\n",
      "196      Q\n",
      "197      S\n",
      "198      Q\n",
      "199      S\n",
      "200      S\n",
      "201      S\n",
      "202      S\n",
      "203      C\n",
      "204      S\n",
      "205      S\n",
      "206      S\n",
      "207      C\n",
      "208      Q\n",
      "209      C\n",
      "210      S\n",
      "211      S\n",
      "212      S\n",
      "213      S\n",
      "214      Q\n",
      "215      C\n",
      "216      S\n",
      "217      S\n",
      "218      C\n",
      "219      S\n",
      "220      S\n",
      "221      S\n",
      "222      S\n",
      "223      S\n",
      "224      S\n",
      "225      S\n",
      "226      S\n",
      "227      S\n",
      "228      S\n",
      "229      S\n",
      "230      S\n",
      "231      S\n",
      "232      S\n",
      "233      S\n",
      "234      S\n",
      "235      S\n",
      "236      S\n",
      "237      S\n",
      "238      S\n",
      "239      S\n",
      "240      C\n",
      "241      Q\n",
      "242      S\n",
      "243      S\n",
      "244      C\n",
      "245      Q\n",
      "246      S\n",
      "247      S\n",
      "248      S\n",
      "249      S\n",
      "250      S\n",
      "251      S\n",
      "252      S\n",
      "253      S\n",
      "254      S\n",
      "255      C\n",
      "256      C\n",
      "257      S\n",
      "258      C\n",
      "259      S\n",
      "260      Q\n",
      "261      S\n",
      "262      S\n",
      "263      S\n",
      "264      Q\n",
      "265      S\n",
      "266      S\n",
      "267      S\n",
      "268      S\n",
      "269      S\n",
      "270      S\n",
      "271      S\n",
      "272      S\n",
      "273      C\n",
      "274      Q\n",
      "275      S\n",
      "276      S\n",
      "277      S\n",
      "278      Q\n",
      "279      S\n",
      "280      Q\n",
      "281      S\n",
      "282      S\n",
      "283      S\n",
      "284      S\n",
      "285      C\n",
      "286      S\n",
      "287      S\n",
      "288      S\n",
      "289      Q\n",
      "290      S\n",
      "291      C\n",
      "292      C\n",
      "293      S\n",
      "294      S\n",
      "295      C\n",
      "296      C\n",
      "297      S\n",
      "298      S\n",
      "299      C\n",
      "300      Q\n",
      "301      Q\n",
      "302      S\n",
      "303      Q\n",
      "304      S\n",
      "305      S\n",
      "306      C\n",
      "307      C\n",
      "308      C\n",
      "309      C\n",
      "310      C\n",
      "311      C\n",
      "312      S\n",
      "313      S\n",
      "314      S\n",
      "315      S\n",
      "316      S\n",
      "317      S\n",
      "318      S\n",
      "319      C\n",
      "320      S\n",
      "321      S\n",
      "322      Q\n",
      "323      S\n",
      "324      S\n",
      "325      C\n",
      "326      S\n",
      "327      S\n",
      "328      S\n",
      "329      C\n",
      "330      Q\n",
      "331      S\n",
      "332      S\n",
      "333      S\n",
      "334      S\n",
      "335      S\n",
      "336      S\n",
      "337      C\n",
      "338      S\n",
      "339      S\n",
      "340      S\n",
      "341      S\n",
      "342      S\n",
      "343      S\n",
      "344      S\n",
      "345      S\n",
      "346      S\n",
      "347      S\n",
      "348      S\n",
      "349      S\n",
      "350      S\n",
      "351      S\n",
      "352      C\n",
      "353      S\n",
      "354      C\n",
      "355      S\n",
      "356      S\n",
      "357      S\n",
      "358      Q\n",
      "359      Q\n",
      "360      S\n",
      "361      C\n",
      "362      C\n",
      "363      S\n",
      "364      Q\n",
      "365      S\n",
      "366      C\n",
      "367      C\n",
      "368      Q\n",
      "369      C\n",
      "370      C\n",
      "371      S\n",
      "372      S\n",
      "373      C\n",
      "374      S\n",
      "375      C\n",
      "376      S\n",
      "377      C\n",
      "378      C\n",
      "379      S\n",
      "380      C\n",
      "381      C\n",
      "382      S\n",
      "383      S\n",
      "384      S\n",
      "385      S\n",
      "386      S\n",
      "387      S\n",
      "388      Q\n",
      "389      C\n",
      "390      S\n",
      "391      S\n",
      "392      S\n",
      "393      C\n",
      "394      S\n",
      "395      S\n",
      "396      S\n",
      "397      S\n",
      "398      S\n",
      "399      S\n",
      "400      S\n",
      "401      S\n",
      "402      S\n",
      "403      S\n",
      "404      S\n",
      "405      S\n",
      "406      S\n",
      "407      S\n",
      "408      S\n",
      "409      S\n",
      "410      S\n",
      "411      Q\n",
      "412      Q\n",
      "413      S\n",
      "414      S\n",
      "415      S\n",
      "416      S\n",
      "417      S\n",
      "418      S\n",
      "419      S\n",
      "420      C\n",
      "421      Q\n",
      "422      S\n",
      "423      S\n",
      "424      S\n",
      "425      S\n",
      "426      S\n",
      "427      S\n",
      "428      Q\n",
      "429      S\n",
      "430      S\n",
      "431      S\n",
      "432      S\n",
      "433      S\n",
      "434      S\n",
      "435      S\n",
      "436      S\n",
      "437      S\n",
      "438      S\n",
      "439      S\n",
      "440      S\n",
      "441      S\n",
      "442      S\n",
      "443      S\n",
      "444      S\n",
      "445      S\n",
      "446      S\n",
      "447      S\n",
      "448      C\n",
      "449      S\n",
      "450      S\n",
      "451      S\n",
      "452      C\n",
      "453      C\n",
      "454      S\n",
      "455      C\n",
      "456      S\n",
      "457      S\n",
      "458      S\n",
      "459      Q\n",
      "460      S\n",
      "461      S\n",
      "462      S\n",
      "463      S\n",
      "464      S\n",
      "465      S\n",
      "466      S\n",
      "467      S\n",
      "468      Q\n",
      "469      C\n",
      "470      S\n",
      "471      S\n",
      "472      S\n",
      "473      C\n",
      "474      S\n",
      "475      S\n",
      "476      S\n",
      "477      S\n",
      "478      S\n",
      "479      S\n",
      "480      S\n",
      "481      S\n",
      "482      S\n",
      "483      S\n",
      "484      C\n",
      "485      S\n",
      "486      S\n",
      "487      C\n",
      "488      S\n",
      "489      S\n",
      "490      S\n",
      "491      S\n",
      "492      S\n",
      "493      C\n",
      "494      S\n",
      "495      C\n",
      "496      C\n",
      "497      S\n",
      "498      S\n",
      "499      S\n",
      "500      S\n",
      "501      Q\n",
      "502      Q\n",
      "503      S\n",
      "504      S\n",
      "505      C\n",
      "506      S\n",
      "507      S\n",
      "508      S\n",
      "509      S\n",
      "510      Q\n",
      "511      S\n",
      "512      S\n",
      "513      C\n",
      "514      S\n",
      "515      S\n",
      "516      S\n",
      "517      Q\n",
      "518      S\n",
      "519      S\n",
      "520      S\n",
      "521      S\n",
      "522      C\n",
      "523      C\n",
      "524      C\n",
      "525      Q\n",
      "526      S\n",
      "527      S\n",
      "528      S\n",
      "529      S\n",
      "530      S\n",
      "531      C\n",
      "532      C\n",
      "533      C\n",
      "534      S\n",
      "535      S\n",
      "536      S\n",
      "537      C\n",
      "538      S\n",
      "539      C\n",
      "540      S\n",
      "541      S\n",
      "542      S\n",
      "543      S\n",
      "544      C\n",
      "545      S\n",
      "546      S\n",
      "547      C\n",
      "548      S\n",
      "549      S\n",
      "550      C\n",
      "551      S\n",
      "552      Q\n",
      "553      C\n",
      "554      S\n",
      "555      S\n",
      "556      C\n",
      "557      C\n",
      "558      S\n",
      "559      S\n",
      "560      Q\n",
      "561      S\n",
      "562      S\n",
      "563      S\n",
      "564      S\n",
      "565      S\n",
      "566      S\n",
      "567      S\n",
      "568      C\n",
      "569      S\n",
      "570      S\n",
      "571      S\n",
      "572      S\n",
      "573      Q\n",
      "574      S\n",
      "575      S\n",
      "576      S\n",
      "577      S\n",
      "578      C\n",
      "579      S\n",
      "580      S\n",
      "581      C\n",
      "582      S\n",
      "583      C\n",
      "584      C\n",
      "585      S\n",
      "586      S\n",
      "587      C\n",
      "588      S\n",
      "589      S\n",
      "590      S\n",
      "591      C\n",
      "592      S\n",
      "593      Q\n",
      "594      S\n",
      "595      S\n",
      "596      S\n",
      "597      S\n",
      "598      C\n",
      "599      C\n",
      "600      S\n",
      "601      S\n",
      "602      S\n",
      "603      S\n",
      "604      C\n",
      "605      S\n",
      "606      S\n",
      "607      S\n",
      "608      C\n",
      "609      S\n",
      "610      S\n",
      "611      S\n",
      "612      Q\n",
      "613      Q\n",
      "614      S\n",
      "615      S\n",
      "616      S\n",
      "617      S\n",
      "618      S\n",
      "619      S\n",
      "620      C\n",
      "621      S\n",
      "622      C\n",
      "623      S\n",
      "624      S\n",
      "625      S\n",
      "626      Q\n",
      "627      S\n",
      "628      S\n",
      "629      Q\n",
      "630      S\n",
      "631      S\n",
      "632      C\n",
      "633      S\n",
      "634      S\n",
      "635      S\n",
      "636      S\n",
      "637      S\n",
      "638      S\n",
      "639      S\n",
      "640      S\n",
      "641      C\n",
      "642      S\n",
      "643      S\n",
      "644      C\n",
      "645      C\n",
      "646      S\n",
      "647      C\n",
      "648      S\n",
      "649      S\n",
      "650      S\n",
      "651      S\n",
      "652      S\n",
      "653      Q\n",
      "654      Q\n",
      "655      S\n",
      "656      S\n",
      "657      Q\n",
      "658      S\n",
      "659      C\n",
      "660      S\n",
      "661      C\n",
      "662      S\n",
      "663      S\n",
      "664      S\n",
      "665      S\n",
      "666      S\n",
      "667      S\n",
      "668      S\n",
      "669      S\n",
      "670      S\n",
      "671      S\n",
      "672      S\n",
      "673      S\n",
      "674      S\n",
      "675      S\n",
      "676      S\n",
      "677      S\n",
      "678      S\n",
      "679      C\n",
      "680      Q\n",
      "681      C\n",
      "682      S\n",
      "683      S\n",
      "684      S\n",
      "685      C\n",
      "686      S\n",
      "687      S\n",
      "688      S\n",
      "689      S\n",
      "690      S\n",
      "691      C\n",
      "692      S\n",
      "693      C\n",
      "694      S\n",
      "695      S\n",
      "696      S\n",
      "697      Q\n",
      "698      C\n",
      "699      S\n",
      "700      C\n",
      "701      S\n",
      "702      C\n",
      "703      Q\n",
      "704      S\n",
      "705      S\n",
      "706      S\n",
      "707      S\n",
      "708      S\n",
      "709      C\n",
      "710      C\n",
      "711      S\n",
      "712      S\n",
      "713      S\n",
      "714      S\n",
      "715      S\n",
      "716      C\n",
      "717      S\n",
      "718      Q\n",
      "719      S\n",
      "720      S\n",
      "721      S\n",
      "722      S\n",
      "723      S\n",
      "724      S\n",
      "725      S\n",
      "726      S\n",
      "727      Q\n",
      "728      S\n",
      "729      S\n",
      "730      S\n",
      "731      C\n",
      "732      S\n",
      "733      S\n",
      "734      S\n",
      "735      S\n",
      "736      S\n",
      "737      C\n",
      "738      S\n",
      "739      S\n",
      "740      S\n",
      "741      S\n",
      "742      C\n",
      "743      S\n",
      "744      S\n",
      "745      S\n",
      "746      S\n",
      "747      S\n",
      "748      S\n",
      "749      Q\n",
      "750      S\n",
      "751      S\n",
      "752      S\n",
      "753      S\n",
      "754      S\n",
      "755      S\n",
      "756      S\n",
      "757      S\n",
      "758      S\n",
      "759      S\n",
      "760      S\n",
      "761      S\n",
      "762      C\n",
      "763      S\n",
      "764      S\n",
      "765      S\n",
      "766      C\n",
      "767      Q\n",
      "768      Q\n",
      "769      S\n",
      "770      S\n",
      "771      S\n",
      "772      S\n",
      "773      C\n",
      "774      S\n",
      "775      S\n",
      "776      Q\n",
      "777      S\n",
      "778      Q\n",
      "779      S\n",
      "780      C\n",
      "781      S\n",
      "782      S\n",
      "783      S\n",
      "784      S\n",
      "785      S\n",
      "786      S\n",
      "787      Q\n",
      "788      S\n",
      "789      C\n",
      "790      Q\n",
      "791      S\n",
      "792      S\n",
      "793      C\n",
      "794      S\n",
      "795      S\n",
      "796      S\n",
      "797      S\n",
      "798      C\n",
      "799      S\n",
      "800      S\n",
      "801      S\n",
      "802      S\n",
      "803      C\n",
      "804      S\n",
      "805      S\n",
      "806      S\n",
      "807      S\n",
      "808      S\n",
      "809      S\n",
      "810      S\n",
      "811      S\n",
      "812      S\n",
      "813      S\n",
      "814      S\n",
      "815      S\n",
      "816      S\n",
      "817      C\n",
      "818      S\n",
      "819      S\n",
      "820      S\n",
      "821      S\n",
      "822      S\n",
      "823      S\n",
      "824      S\n",
      "825      Q\n",
      "826      S\n",
      "827      C\n",
      "828      Q\n",
      "829    NaN\n",
      "830      C\n",
      "831      S\n",
      "832      C\n",
      "833      S\n",
      "834      S\n",
      "835      C\n",
      "836      S\n",
      "837      S\n",
      "838      S\n",
      "839      C\n",
      "840      S\n",
      "841      S\n",
      "842      C\n",
      "843      C\n",
      "844      S\n",
      "845      S\n",
      "846      S\n",
      "847      C\n",
      "848      S\n",
      "849      C\n",
      "850      S\n",
      "851      S\n",
      "852      C\n",
      "853      S\n",
      "854      S\n",
      "855      S\n",
      "856      S\n",
      "857      S\n",
      "858      C\n",
      "859      C\n",
      "860      S\n",
      "861      S\n",
      "862      S\n",
      "863      S\n",
      "864      S\n",
      "865      S\n",
      "866      C\n",
      "867      S\n",
      "868      S\n",
      "869      S\n",
      "870      S\n",
      "871      S\n",
      "872      S\n",
      "873      S\n",
      "874      C\n",
      "875      C\n",
      "876      S\n",
      "877      S\n",
      "878      S\n",
      "879      C\n",
      "880      S\n",
      "881      S\n",
      "882      S\n",
      "883      S\n",
      "884      S\n",
      "885      Q\n",
      "886      S\n",
      "887      S\n",
      "888      S\n",
      "889      C\n",
      "890      Q\n",
      "Name: Embarked, dtype: object\n"
     ]
    }
   ],
   "source": [
    "print(data_train['Embarked'])\n",
    "\n",
    "NAs = [61, 829]"
   ]
  },
  {
   "cell_type": "markdown",
   "metadata": {},
   "source": [
    "Maintenant, nous retirons les indices de la liste NAs du DataFrame et nous appliquons une boucle pour Age. \n",
    "Cette application est basée sur le même principe que précédemment puisque nous créeons une liste, appelée \"missing\", des indices de lignes contenant des NAs et nous les supprime du DataFrame. Cependant, dans ce cas, nous le faisons automatiquement avec une boucle. "
   ]
  },
  {
   "cell_type": "code",
   "execution_count": 14,
   "metadata": {},
   "outputs": [],
   "source": [
    "data_train.drop(NAs, axis = 0, inplace = True)\n",
    "data_train.reset_index(inplace = True)\n",
    "\n",
    "missing = []\n",
    "\n",
    "for i in range(0, len(data_train)):\n",
    "    if np.isnan(data_train['Age'][i]):\n",
    "        missing.append(i)\n",
    "        \n",
    "data_train.drop(missing, axis = 0, inplace = True)\n",
    "data_train.reset_index(inplace = True, drop = True)"
   ]
  },
  {
   "cell_type": "markdown",
   "metadata": {},
   "source": [
    "Dans cette partie, il s'agit d'appliquer les mêmes manipulations effectuées sur la base train, à la base test. Cependant, il nous est impossible de supprimer les lignes dans cette base, puisque le DataFrame doit impérativement être (418, .). Nous sommes donc obligé de faire de l'imputation. \n",
    "La solution la plus simple est donc de remplacer les valeurs manquantes par la moyenne arithmétiques des variables. Cette méthode n'est pas forcément celle maximisant les résultats puisqu'elle peut être biaisé en terme d'échantillonage. Nous essayerons une autre approche plus tard dans l'analyse."
   ]
  },
  {
   "cell_type": "code",
   "execution_count": 15,
   "metadata": {},
   "outputs": [
    {
     "name": "stderr",
     "output_type": "stream",
     "text": [
      "<ipython-input-15-ee7ffe34e150>:6: SettingWithCopyWarning: \n",
      "A value is trying to be set on a copy of a slice from a DataFrame\n",
      "\n",
      "See the caveats in the documentation: https://pandas.pydata.org/pandas-docs/stable/user_guide/indexing.html#returning-a-view-versus-a-copy\n",
      "  data_test['Age'][i] = mean_Age\n",
      "<ipython-input-15-ee7ffe34e150>:8: SettingWithCopyWarning: \n",
      "A value is trying to be set on a copy of a slice from a DataFrame\n",
      "\n",
      "See the caveats in the documentation: https://pandas.pydata.org/pandas-docs/stable/user_guide/indexing.html#returning-a-view-versus-a-copy\n",
      "  data_test['Fare'][i] = mean_Fare\n"
     ]
    }
   ],
   "source": [
    "mean_Age = np.mean(data_test['Age'])\n",
    "mean_Fare = np.mean(data_test['Fare'])\n",
    "\n",
    "for i in range(0, len(data_test)):\n",
    "    if np.isnan(data_test['Age'][i]):\n",
    "        data_test['Age'][i] = mean_Age\n",
    "    elif np.isnan(data_test['Fare'][i]):\n",
    "        data_test['Fare'][i] = mean_Fare"
   ]
  },
  {
   "cell_type": "markdown",
   "metadata": {},
   "source": [
    "### 3.5 - Détection des outliers\n",
    "\n",
    "Nous souhaitons maintenant détecter visuellement la présence d'outliers dans la base, c'est à dire les valeurs atypiques susceptibles de biaiser notre analyse. Pour ce faire nous allons afficher les BoxPlot des variables.  "
   ]
  },
  {
   "cell_type": "code",
   "execution_count": 16,
   "metadata": {},
   "outputs": [
    {
     "data": {
      "image/png": "[encoded data removed]",
      "text/plain": [
       "<Figure size 864x576 with 4 Axes>"
      ]
     },
     "metadata": {
      "needs_background": "light"
     },
     "output_type": "display_data"
    }
   ],
   "source": [
    "fig, axs = plt.subplots(2, 2, figsize = (12, 8))\n",
    "\n",
    "fig.suptitle('Box Plots')\n",
    "\n",
    "axs[0, 0].boxplot(data_train['Age'])\n",
    "axs[0, 0].set_title('Distribution de Age')\n",
    "axs[0, 0].set_xlabel('Age')\n",
    "axs[0, 0].set_ylabel('Fréquence')\n",
    "\n",
    "axs[0, 1].boxplot(data_train['SibSp'])\n",
    "axs[0, 1].set_title('Distribution de SibSp')\n",
    "axs[0, 1].set_xlabel('SibSp')\n",
    "axs[0, 1].set_ylabel('Fréquence')\n",
    "\n",
    "axs[1, 0].boxplot(data_train['Fare'])\n",
    "axs[1, 0].set_title('Distribution de fare')\n",
    "axs[1, 0].set_xlabel('fare')\n",
    "axs[1, 0].set_ylabel('Fréquence')\n",
    "\n",
    "axs[1, 1].boxplot(data_train['Parch'])\n",
    "axs[1, 1].set_title('Distribution de parch')\n",
    "axs[1, 1].set_xlabel('parch')\n",
    "axs[1, 1].set_ylabel('Fréquence')\n",
    "\n",
    "\n",
    "fig.subplots_adjust(hspace = 0.5, wspace = 0.5) \n",
    "\n",
    "plt.show()"
   ]
  },
  {
   "cell_type": "markdown",
   "metadata": {},
   "source": [
    "Nous observons que plusieurs valeurs de \"Fare\" sont supérieurs à 500. Nous décidons donc de retirer ces observations. \n",
    "\n",
    "Dans le boxplot de la variable \"Age\", nous pouvons avoir un doute sur la présence d'oultiers, mais pour l'instant nous continuons l'analyse sans avoir retiré aucune observation.\n",
    "\n",
    "Pour les autres variables, nous décidons de ne pas traiter les valeurs extrêmes, Parch et SibSp sont des variables numériques discrètes, il nou semble donc judicieux de conserver toutes les valeurs."
   ]
  },
  {
   "cell_type": "code",
   "execution_count": 17,
   "metadata": {
    "scrolled": false
   },
   "outputs": [],
   "source": [
    "outlier = (data_train[data_train['Fare'] >= 500].index.values)\n",
    "outlier = outlier.tolist()\n",
    "\n",
    "data_train.drop(outlier, axis = 0, inplace = True)\n",
    "data_train.reset_index(drop = True, inplace = True)"
   ]
  },
  {
   "cell_type": "markdown",
   "metadata": {},
   "source": [
    "### 3.6 - Recodage de certaines variables\n",
    "\n",
    "Nous souhaitons recoder la variable \"Sex\" afin d'avoir une variable binaire. Pour cela, cette variable prend la valeur 1 lorsque l'individu est un homme (male) et 0 si l'individu est une femme (female). "
   ]
  },
  {
   "cell_type": "code",
   "execution_count": 18,
   "metadata": {},
   "outputs": [
    {
     "name": "stderr",
     "output_type": "stream",
     "text": [
      "<ipython-input-18-b07bf126222b>:3: SettingWithCopyWarning: \n",
      "A value is trying to be set on a copy of a slice from a DataFrame\n",
      "\n",
      "See the caveats in the documentation: https://pandas.pydata.org/pandas-docs/stable/user_guide/indexing.html#returning-a-view-versus-a-copy\n",
      "  data_train['Sex'][i] = 1\n",
      "<ipython-input-18-b07bf126222b>:5: SettingWithCopyWarning: \n",
      "A value is trying to be set on a copy of a slice from a DataFrame\n",
      "\n",
      "See the caveats in the documentation: https://pandas.pydata.org/pandas-docs/stable/user_guide/indexing.html#returning-a-view-versus-a-copy\n",
      "  data_train['Sex'][i] = 0\n",
      "<ipython-input-18-b07bf126222b>:9: SettingWithCopyWarning: \n",
      "A value is trying to be set on a copy of a slice from a DataFrame\n",
      "\n",
      "See the caveats in the documentation: https://pandas.pydata.org/pandas-docs/stable/user_guide/indexing.html#returning-a-view-versus-a-copy\n",
      "  data_test['Sex'][i] = 1\n",
      "<ipython-input-18-b07bf126222b>:11: SettingWithCopyWarning: \n",
      "A value is trying to be set on a copy of a slice from a DataFrame\n",
      "\n",
      "See the caveats in the documentation: https://pandas.pydata.org/pandas-docs/stable/user_guide/indexing.html#returning-a-view-versus-a-copy\n",
      "  data_test['Sex'][i] = 0\n"
     ]
    }
   ],
   "source": [
    "for i in range(0, len(data_train['Sex'])):\n",
    "    if data_train['Sex'][i] == 'male':\n",
    "        data_train['Sex'][i] = 1\n",
    "    else:\n",
    "        data_train['Sex'][i] = 0\n",
    "\n",
    "for i in range(0, len(data_test['Sex'])):\n",
    "    if data_test['Sex'][i] == 'male':\n",
    "        data_test['Sex'][i] = 1\n",
    "    else:\n",
    "        data_test['Sex'][i] = 0"
   ]
  },
  {
   "cell_type": "markdown",
   "metadata": {},
   "source": [
    "Nous souhaitons également recoder la variable Embarked en nombre entiers positifs. Ainsi, cette variable prend les valeurs suivantes : \n",
    "* O pour S\n",
    "* 1 pour Q \n",
    "* 2 pour C\n"
   ]
  },
  {
   "cell_type": "code",
   "execution_count": 19,
   "metadata": {},
   "outputs": [
    {
     "name": "stderr",
     "output_type": "stream",
     "text": [
      "<ipython-input-19-0952b4df946a>:3: SettingWithCopyWarning: \n",
      "A value is trying to be set on a copy of a slice from a DataFrame\n",
      "\n",
      "See the caveats in the documentation: https://pandas.pydata.org/pandas-docs/stable/user_guide/indexing.html#returning-a-view-versus-a-copy\n",
      "  data_train['Embarked'][i] = 0\n",
      "<ipython-input-19-0952b4df946a>:7: SettingWithCopyWarning: \n",
      "A value is trying to be set on a copy of a slice from a DataFrame\n",
      "\n",
      "See the caveats in the documentation: https://pandas.pydata.org/pandas-docs/stable/user_guide/indexing.html#returning-a-view-versus-a-copy\n",
      "  data_train['Embarked'][i] = 2\n",
      "<ipython-input-19-0952b4df946a>:5: SettingWithCopyWarning: \n",
      "A value is trying to be set on a copy of a slice from a DataFrame\n",
      "\n",
      "See the caveats in the documentation: https://pandas.pydata.org/pandas-docs/stable/user_guide/indexing.html#returning-a-view-versus-a-copy\n",
      "  data_train['Embarked'][i] = 1\n",
      "<ipython-input-19-0952b4df946a>:13: SettingWithCopyWarning: \n",
      "A value is trying to be set on a copy of a slice from a DataFrame\n",
      "\n",
      "See the caveats in the documentation: https://pandas.pydata.org/pandas-docs/stable/user_guide/indexing.html#returning-a-view-versus-a-copy\n",
      "  data_test['Embarked'][i] = 1\n",
      "<ipython-input-19-0952b4df946a>:11: SettingWithCopyWarning: \n",
      "A value is trying to be set on a copy of a slice from a DataFrame\n",
      "\n",
      "See the caveats in the documentation: https://pandas.pydata.org/pandas-docs/stable/user_guide/indexing.html#returning-a-view-versus-a-copy\n",
      "  data_test['Embarked'][i] = 0\n",
      "<ipython-input-19-0952b4df946a>:15: SettingWithCopyWarning: \n",
      "A value is trying to be set on a copy of a slice from a DataFrame\n",
      "\n",
      "See the caveats in the documentation: https://pandas.pydata.org/pandas-docs/stable/user_guide/indexing.html#returning-a-view-versus-a-copy\n",
      "  data_test['Embarked'][i] = 2\n"
     ]
    }
   ],
   "source": [
    "for i in range(0, len(data_train['Embarked'])):\n",
    "    if data_train['Embarked'][i] == 'S':\n",
    "        data_train['Embarked'][i] = 0\n",
    "    elif data_train['Embarked'][i] == 'Q':\n",
    "        data_train['Embarked'][i] = 1\n",
    "    else:\n",
    "        data_train['Embarked'][i] = 2\n",
    "        \n",
    "for i in range(0, len(data_test['Embarked'])):\n",
    "    if data_test['Embarked'][i] == 'S':\n",
    "        data_test['Embarked'][i] = 0\n",
    "    elif data_test['Embarked'][i] == 'Q':\n",
    "        data_test['Embarked'][i] = 1\n",
    "    else:\n",
    "        data_test['Embarked'][i] = 2"
   ]
  },
  {
   "cell_type": "markdown",
   "metadata": {},
   "source": [
    "## 4 - Modélisation \n",
    "\n",
    "### 4.1 - Création des variables X et Y \n",
    "\n",
    "Nous créeons les variables X et Y. \n",
    "La variable X correspond au variables explicatives, et la variable Y à la variable à expliquer, à savoir \"Survived\", si les individus on survécu ou non au nauffrage. \n",
    "\n",
    "\n",
    "Nous passons les variables qualitatives en entiers positifs. Ceci n'est pas forcément necessaire pour le modèle Random Forest, mais il l'est pour les neurones artificielles (ANN), et  la librairie Keras. "
   ]
  },
  {
   "cell_type": "code",
   "execution_count": 20,
   "metadata": {},
   "outputs": [],
   "source": [
    "X = data_train.drop(['Survived', 'Name', 'index', 'Ticket', 'PassengerId'], axis = 1)\n",
    "y = data_train['Survived']\n",
    "\n",
    "X_test = data_test.drop(['Name', 'Ticket', 'PassengerId'], axis = 1)\n",
    "\n",
    "X['Sex'] = X['Sex'].astype(int)\n",
    "X['Embarked'] = X['Embarked'].astype(int)\n",
    "X['Cabin'] = X['Cabin'].astype(int)\n",
    "X_test['Sex'] = X_test['Sex'].astype(int)\n",
    "X_test['Embarked'] = X_test['Embarked'].astype(int)\n",
    "X_test['Cabin'] = X_test['Cabin'].astype(int)"
   ]
  },
  {
   "cell_type": "markdown",
   "metadata": {},
   "source": [
    "### 4.2 - Création des modèles\n",
    "\n",
    "Nous allons maintenant tenter d'expliquer la variable \"Survived\" à l'aide de plusieurs modèles. \n",
    "\n",
    "#### 4.2.1 - Régression Logistique"
   ]
  },
  {
   "cell_type": "code",
   "execution_count": null,
   "metadata": {},
   "outputs": [],
   "source": [
    "# Logistic regression\n",
    "logistic = LogisticRegression(max_iter = 1000, solver = 'newton-cg')\n",
    "logistic.fit(X, y)\n",
    "\n",
    "logistic_pred = logistic.predict(X_test)"
   ]
  },
  {
   "cell_type": "markdown",
   "metadata": {},
   "source": [
    "Dans la commande ci-dessous, nous concaténons la variable PassengerID et les prédictions des modèles dans un DataFrame de soummission. Ainsi, nous pouvons écrire ce DataFrame en \".csv\" avec le format nécessaire pour Kaggle.  "
   ]
  },
  {
   "cell_type": "code",
   "execution_count": null,
   "metadata": {},
   "outputs": [],
   "source": [
    "listes = list(zip(data_test['PassengerId'], logistic_pred))\n",
    "soumission = pd.DataFrame(listes, columns = ['PassengerId', 'Survived'])\n",
    "soumission.to_csv('submission.csv', header = True, index = False)"
   ]
  },
  {
   "cell_type": "markdown",
   "metadata": {},
   "source": [
    "**Score : 0.766**"
   ]
  },
  {
   "cell_type": "markdown",
   "metadata": {},
   "source": [
    "#### 4.2.2 - Arbre de décision (CART) \n",
    "\n",
    "Nous allons maintenant faire un arbre de décision (CART). C'est un arbre de décisions binaires. L'arbre n'est pas limité dans sa croissance (min_sample_split = 2 et max_depth = none) on risque donc d'avoir un arbre très (trop) profond, avec risque de surapprentissage. \n"
   ]
  },
  {
   "cell_type": "code",
   "execution_count": 23,
   "metadata": {},
   "outputs": [],
   "source": [
    "# Single CART\n",
    "\n",
    "tree = DecisionTreeClassifier(random_state = 1000,\n",
    "                              min_samples_split = 2,\n",
    "                              max_depth = None,\n",
    "                              class_weight = 'balanced',\n",
    "                              max_features = None)\n",
    "tree.fit(X, y)\n",
    "\n",
    "tree_pred  = tree.predict(X_test)"
   ]
  },
  {
   "cell_type": "markdown",
   "metadata": {},
   "source": [
    "Nous retrouvons la commande permettant la concaténation de la variable PassengerID et les prédictions des modèles dans un DataFrame de soummission."
   ]
  },
  {
   "cell_type": "code",
   "execution_count": null,
   "metadata": {},
   "outputs": [],
   "source": [
    "listes = list(zip(data_test['PassengerId'], tree_pred))\n",
    "soumission = pd.DataFrame(listes, columns = ['PassengerId', 'Survived'])\n",
    "soumission.to_csv('submission.csv', header = True, index = False)"
   ]
  },
  {
   "cell_type": "markdown",
   "metadata": {},
   "source": [
    "**Score : 0.699**"
   ]
  },
  {
   "cell_type": "markdown",
   "metadata": {},
   "source": [
    "Nous constatons que la qualité de prédiction de ce modèle est relativement bonne, mais il y a surement un problème de surapprentissage. "
   ]
  },
  {
   "cell_type": "markdown",
   "metadata": {},
   "source": [
    "#### 4.2.3 - Forêt aléatoire\n",
    "\n",
    "Nous allons procéder à la modélisation d'une forêt aléatoire. Ce dernier pourrait résoudre le problème de surapprentissage rencontré précédemment.\n"
   ]
  },
  {
   "cell_type": "code",
   "execution_count": null,
   "metadata": {},
   "outputs": [],
   "source": [
    "# Random Forest\n",
    "RF = RandomForestClassifier(n_estimators = 1000,\n",
    "                            max_depth = None,\n",
    "                            min_samples_split = 2,\n",
    "                            class_weight = \"balanced\",\n",
    "                            random_state = 1000,\n",
    "                            max_features = None)\n",
    "\n",
    "RF.fit(X, y)\n",
    "\n",
    "RF_pred  = RF.predict(X_test)"
   ]
  },
  {
   "cell_type": "markdown",
   "metadata": {},
   "source": [
    "Fichier de soumission :"
   ]
  },
  {
   "cell_type": "code",
   "execution_count": null,
   "metadata": {},
   "outputs": [],
   "source": [
    "listes = list(zip(data_test['PassengerId'], RF_pred))\n",
    "soumission = pd.DataFrame(listes, columns = ['PassengerId', 'Survived'])\n",
    "soumission.to_csv('submission.csv', header = True, index = False)"
   ]
  },
  {
   "cell_type": "markdown",
   "metadata": {},
   "source": [
    "**Score : 0.739**\n"
   ]
  },
  {
   "cell_type": "markdown",
   "metadata": {},
   "source": [
    "#### 4.2.4 - Grid Search et Forêt aléatoire\n",
    "\n",
    "Grid search est une fonction de sklearn qui permet de tester différents jeux de\n",
    "paramètres pour un modèle donné et de comparer les performances. Cette fonction permet d'optimiser les modélisations de forêts aléatoires. La comparaison des performances est effectuée à l'aide d'une 10-folds cross-validation et du score f1 du modèle. "
   ]
  },
  {
   "cell_type": "code",
   "execution_count": null,
   "metadata": {},
   "outputs": [],
   "source": [
    "# Grid Search CV Random Forest\n",
    "parameters = {'max_features' : [1, 2, 3, 4, 5, 6, 7, 8],\n",
    "             'n_estimators' : [10, 100, 1000, 5000],\n",
    "             'max_depth' : [None, 1, 5, 10, 20]}\n",
    "\n",
    "grid_RF = RandomForestClassifier()\n",
    "grid_RF = GridSearchCV(RF, parameters, scoring = 'f1_macro', cv = 10)\n",
    "\n",
    "grid_RF.fit(X, y)\n",
    "\n",
    "grid_RF_pred  = grid_RF.predict(X_test)"
   ]
  },
  {
   "cell_type": "markdown",
   "metadata": {},
   "source": [
    "Fichier de soumission : "
   ]
  },
  {
   "cell_type": "code",
   "execution_count": null,
   "metadata": {},
   "outputs": [],
   "source": [
    "listes = list(zip(data_test['PassengerId'], grid_RF_pred))\n",
    "soumission = pd.DataFrame(listes, columns = ['PassengerId', 'Survived'])\n",
    "soumission.to_csv('submission.csv', header = True, index = False)"
   ]
  },
  {
   "cell_type": "markdown",
   "metadata": {},
   "source": [
    "**Score : 0,756**"
   ]
  },
  {
   "cell_type": "markdown",
   "metadata": {},
   "source": [
    "#### 4.2.5 - Gradient Boosting\n",
    "\n",
    "Le gradient boosting est un modèle ensembliste de boosting utilisant la descente de gradient pour optimiser une fonction de perte. Cette descente est utilisée pour le calcul des poids des individus, lors de la construction de modèle. A l'inverse d'une forêt aléatoire standard où les arbres sont tous construits simultanement, avec le gradient boosting la construction des arbres est itérative et chaque nouvel arbre est censé remédier aux erreurs de prédiction du précedent."
   ]
  },
  {
   "cell_type": "code",
   "execution_count": null,
   "metadata": {},
   "outputs": [],
   "source": [
    "# Gradient Boosting\n",
    "\n",
    "boost_RF = GradientBoostingClassifier(n_estimators = 1000,\n",
    "                                     learning_rate = 0.1,\n",
    "                                     max_depth = None,\n",
    "                                     random_state = 1000)\n",
    "\n",
    "boost_RF.fit(X, y)\n",
    "\n",
    "boost_RF_pred  = boost_RF.predict(X_test)"
   ]
  },
  {
   "cell_type": "markdown",
   "metadata": {},
   "source": [
    "Fichier de soumission : "
   ]
  },
  {
   "cell_type": "code",
   "execution_count": null,
   "metadata": {},
   "outputs": [],
   "source": [
    "listes = list(zip(data_test['PassengerId'], boost_RF_pred))\n",
    "soumission = pd.DataFrame(listes, columns = ['PassengerId', 'Survived'])\n",
    "soumission.to_csv('submission.csv', header = True, index = False)"
   ]
  },
  {
   "cell_type": "markdown",
   "metadata": {},
   "source": [
    "**Score : 0,744**"
   ]
  },
  {
   "cell_type": "markdown",
   "metadata": {},
   "source": [
    "- Pour aller plus loin :  nous pouvons utiliser la méthode XGBoost. Comme le gradient boosting, cette méthode repose également sur la descente de gradient. \n",
    "Cependant, la méthode utilise une approche plus régularisée dans la fonction de perte afin de contrôler le surapprentissage."
   ]
  },
  {
   "cell_type": "code",
   "execution_count": null,
   "metadata": {},
   "outputs": [],
   "source": [
    "#GBoost\n",
    "xg_reg = xgb.XGBRegressor(objective = 'reg:linear', colsample_bytree= 0.3, learning_rate = 0.1, \n",
    "                          max_depth = None, alpha = 10, n_estimators = 10)\n",
    "xg_reg.fit(X,y)\n",
    "xg_reg_predict = xg_reg.predict(X_test)"
   ]
  },
  {
   "cell_type": "markdown",
   "metadata": {},
   "source": [
    "Fichier de soumission : "
   ]
  },
  {
   "cell_type": "code",
   "execution_count": null,
   "metadata": {},
   "outputs": [],
   "source": [
    "listes = list(zip(data_test['PassengerId'], xg_reg_predict))\n",
    "soumission = pd.DataFrame(listes, columns = ['PassengerId', 'Survived'])\n",
    "soumission.to_csv('submission.csv', header = True, index = False)"
   ]
  },
  {
   "cell_type": "markdown",
   "metadata": {},
   "source": [
    "**Score : 0.74401**"
   ]
  },
  {
   "cell_type": "markdown",
   "metadata": {},
   "source": [
    "#### 4.2.6 - Réseaux de neurones \n",
    "\n",
    "Nous allons terminer nos modélisations avec une méthode dite de réseaux de neurones. "
   ]
  },
  {
   "cell_type": "code",
   "execution_count": null,
   "metadata": {},
   "outputs": [],
   "source": [
    "# Neural Net\n",
    "y = np.asarray(y)\n",
    "X = np.asarray(X)"
   ]
  },
  {
   "cell_type": "code",
   "execution_count": null,
   "metadata": {},
   "outputs": [],
   "source": [
    "# Neural Net\n",
    "\n",
    "MLP = tf.keras.Sequential([\n",
    "    tf.keras.layers.Dense(50, activation = 'relu'), # 1 hidden layer w/ 10 neurons\n",
    "    tf.keras.layers.Dense(10, activation = 'relu'), # 1 hidden layer w/ 10 neurons\n",
    "    tf.keras.layers.Dense(2)])\n",
    "\n",
    "MLP.compile(optimizer = 'adam',\n",
    "                  loss = tf.keras.losses.SparseCategoricalCrossentropy(from_logits=True),\n",
    "                  metrics = ['accuracy'])\n",
    "\n",
    "MLP.fit(X, y, epochs = 10)\n",
    "\n",
    "MLP_pred = MLP.predict(X_test)"
   ]
  },
  {
   "cell_type": "markdown",
   "metadata": {},
   "source": [
    "Fichier de soumission : "
   ]
  },
  {
   "cell_type": "code",
   "execution_count": null,
   "metadata": {},
   "outputs": [],
   "source": [
    "listes = list(zip(data_test['PassengerId'], MLP_pred))\n",
    "soumission = pd.DataFrame(listes, columns = ['PassengerId', 'Survived'])\n",
    "soumission.to_csv('submission.csv', header = True, index = False)"
   ]
  },
  {
   "cell_type": "markdown",
   "metadata": {},
   "source": [
    "**Score : 0,722**"
   ]
  },
  {
   "cell_type": "markdown",
   "metadata": {},
   "source": [
    "## 5 - Création des modèles après modification\n"
   ]
  },
  {
   "cell_type": "markdown",
   "metadata": {},
   "source": [
    "Après soumission de nos résultats, nous constatons que nos modèles sont relativement bons. En effet nous avons environ 70 à 75% de classifications correctes. Mais comme précisié précédemment, il est possible d'atteindre presque 100%. Pour augmenter notre taux de résussite, nous allons tout d'abord mettre en oeuvre les quelques modifications que nous avons suggérées ci dessus.\n",
    "En premier lieu, nous allons recoder la variable \"Cabin\" différement. Nous allons récupérer la lettre pour nous en servir de variable qualitative avec l'idée que dans un bateau les classes les plus hautes se trouvent aux étages supérieurs et ont donc plus de chance de survie. La lettre de la cabine est un proxy pour l'étage auquel se trouve ladite cabine. \n",
    "La seconde modification consiste à \"winsoriser\" les variables \"Age\" et \"Fare\", ainsi nous remplacons les outliers par des valeurs qui ne devraient pas biaiser les estimations. Nous conservons donc la taille d'échantillon initiale. Enfin, les NAs seront imputés avec la fonction \"MissForest\" et non pas par leur moyenne respective qcomme nous l'avions fait précédement. La fonction engineer( ) ci-dessous refait toute l'importation et pré-traitement de la base, en apportant les modifications mentionnées."
   ]
  },
  {
   "cell_type": "markdown",
   "metadata": {},
   "source": [
    "### 5.1 - Modification des variables\n",
    "\n",
    "Nous importons de nouveau les bases de données afin de faire ces différentes modifications, puis nous allons conclure si ces dernières ameliorent nos résultats ou pas."
   ]
  },
  {
   "cell_type": "code",
   "execution_count": 1,
   "metadata": {},
   "outputs": [],
   "source": [
    "def engineer():\n",
    "    \n",
    "    path = '/Users/yasmina/Documents/Master 2/Machine Learning sous Python/data_projet_rendre/train.csv'\n",
    "    path_test = '/Users/yasmina/Documents/Master 2/Machine Learning sous Python/data_projet_rendre/test.csv'\n",
    "\n",
    "\n",
    "    data_train = pd.read_csv(path)\n",
    "    data_test = pd.read_csv(path_test)\n",
    "    \n",
    "    \n",
    "    for i in range(0, len(data_train['Cabin'])):\n",
    "        if type(data_train['Cabin'][i]) == float:\n",
    "            data_train['Cabin'][i] = str(data_train['Cabin'][i])\n",
    "        \n",
    "        if 'A' in data_train['Cabin'][i]:\n",
    "                    data_train['Cabin'][i] = 1\n",
    "        elif 'B' in data_train['Cabin'][i]:\n",
    "                    data_train['Cabin'][i] = 2\n",
    "        elif 'C' in data_train['Cabin'][i]:\n",
    "                    data_train['Cabin'][i] = 3\n",
    "        elif 'D' in data_train['Cabin'][i]:\n",
    "                    data_train['Cabin'][i] = 4\n",
    "        elif 'E' in data_train['Cabin'][i]:\n",
    "                    data_train['Cabin'][i] = 5\n",
    "        elif 'F' in data_train['Cabin'][i]:\n",
    "                    data_train['Cabin'][i] = 6\n",
    "        elif 'G' in data_train['Cabin'][i]:\n",
    "                    data_train['Cabin'][i] = 7\n",
    "        else:\n",
    "            data_train['Cabin'][i] = 0\n",
    "\n",
    "    for i in range(0, len(data_test['Cabin'])):\n",
    "        if type(data_test['Cabin'][i]) == float:\n",
    "            data_test['Cabin'][i] = str(data_test['Cabin'][i])\n",
    "        if 'A' in data_test['Cabin'][i]:\n",
    "                    data_test['Cabin'][i] = 1\n",
    "        elif 'B' in data_test['Cabin'][i]:\n",
    "                    data_test['Cabin'][i] = 2\n",
    "        elif 'C' in data_test['Cabin'][i]:\n",
    "                    data_test['Cabin'][i] = 3\n",
    "        elif 'D' in data_test['Cabin'][i]:\n",
    "                    data_test['Cabin'][i] = 4\n",
    "        elif 'E' in data_test['Cabin'][i]:\n",
    "                    data_test['Cabin'][i] = 5\n",
    "        elif 'F' in data_test['Cabin'][i]:\n",
    "                    data_test['Cabin'][i] = 6\n",
    "        elif 'G' in data_test['Cabin'][i]:\n",
    "                    data_test['Cabin'][i] = 7\n",
    "        else:\n",
    "            data_test['Cabin'][i] = 0\n",
    "\n",
    "    NAs = [61, 829] \n",
    "\n",
    "    data_train.drop(NAs, axis = 0, inplace = True)\n",
    "    data_train.reset_index(inplace = True)\n",
    "\n",
    "    quantile_Fare = np.quantile(data_train['Fare'], 0.75)\n",
    "    quantile_Age = np.quantile(data_train['Age'], 0.75)\n",
    "\n",
    "    for i in range(0, len(data_train)):\n",
    "        if data_train['Fare'][i] >= 500:\n",
    "            data_train['Fare'][i] = quantile_Fare\n",
    "        if data_train['Age'][i] >= 65:\n",
    "            data_train['Age'][i] = quantile_Age\n",
    "        \n",
    "    for i in range(0, len(data_train['Sex'])):\n",
    "        if data_train['Sex'][i] == 'male':\n",
    "            data_train['Sex'][i] = 1\n",
    "        else:\n",
    "            data_train['Sex'][i] = 0\n",
    "\n",
    "        for i in range(0, len(data_test['Sex'])):\n",
    "            if data_test['Sex'][i] == 'male':\n",
    "                data_test['Sex'][i] = 1\n",
    "            else:\n",
    "                data_test['Sex'][i] = 0\n",
    "\n",
    "    for i in range(0, len(data_train['Embarked'])):\n",
    "        if data_train['Embarked'][i] == 'S':\n",
    "            data_train['Embarked'][i] = 0\n",
    "        elif data_train['Embarked'][i] == 'Q':\n",
    "            data_train['Embarked'][i] = 1\n",
    "        else:\n",
    "            data_train['Embarked'][i] = 2\n",
    "\n",
    "    for i in range(0, len(data_test['Embarked'])):\n",
    "        if data_test['Embarked'][i] == 'S':\n",
    "            data_test['Embarked'][i] = 0\n",
    "        elif data_test['Embarked'][i] == 'Q':\n",
    "            data_test['Embarked'][i] = 1\n",
    "        else:\n",
    "            data_test['Embarked'][i] = 2\n",
    "            \n",
    "    X_raw = data_train.drop(['Survived', 'Name', 'index', 'Ticket', 'PassengerId'], axis = 1)\n",
    "    y = data_train['Survived']\n",
    "\n",
    "    X_test_raw = data_test.drop(['Name', 'Ticket', 'PassengerId'], axis = 1)\n",
    "    \n",
    "    imputer = MissForest()\n",
    "    X = imputer.fit_transform(X_raw)\n",
    "    X = pd.DataFrame(X)\n",
    "    X_test = imputer.fit_transform(X_test_raw)\n",
    "    X_test = pd.DataFrame(X_test)\n",
    "    \n",
    "    X.columns = ['Pclass', 'Sex', 'Age', 'SibSp', 'Parch', 'Fare', 'Cabin', 'Embarked']\n",
    "    \n",
    "    X['Sex'] = X['Sex'].astype(int)\n",
    "    X['Age'] = X['Age'].astype(int)\n",
    "    X['Parch'] = X['Parch'].astype(int)\n",
    "    X['SibSp'] = X['SibSp'].astype(int)\n",
    "    X['Pclass'] = X['Pclass'].astype(int)\n",
    "    X['Embarked'] = X['Embarked'].astype(int)\n",
    "    X['Cabin'] = X['Cabin'].astype(int)\n",
    "    \n",
    "    return X, y, X_test"
   ]
  },
  {
   "cell_type": "markdown",
   "metadata": {},
   "source": [
    "Finalement, nous récuperons et sauvegardons les variables après modification, grâce à la fonction engineer( )"
   ]
  },
  {
   "cell_type": "code",
   "execution_count": 2,
   "metadata": {},
   "outputs": [
    {
     "ename": "NameError",
     "evalue": "name 'pd' is not defined",
     "output_type": "error",
     "traceback": [
      "\u001b[1;31m---------------------------------------------------------------------------\u001b[0m",
      "\u001b[1;31mNameError\u001b[0m                                 Traceback (most recent call last)",
      "\u001b[1;32m<ipython-input-2-9798df65379e>\u001b[0m in \u001b[0;36m<module>\u001b[1;34m\u001b[0m\n\u001b[1;32m----> 1\u001b[1;33m \u001b[0mX\u001b[0m\u001b[1;33m,\u001b[0m \u001b[0my\u001b[0m\u001b[1;33m,\u001b[0m \u001b[0mX_test\u001b[0m \u001b[1;33m=\u001b[0m \u001b[0mengineer\u001b[0m\u001b[1;33m(\u001b[0m\u001b[1;33m)\u001b[0m\u001b[1;33m\u001b[0m\u001b[1;33m\u001b[0m\u001b[0m\n\u001b[0m",
      "\u001b[1;32m<ipython-input-1-dd2ca7aa3357>\u001b[0m in \u001b[0;36mengineer\u001b[1;34m()\u001b[0m\n\u001b[0;32m      5\u001b[0m \u001b[1;33m\u001b[0m\u001b[0m\n\u001b[0;32m      6\u001b[0m \u001b[1;33m\u001b[0m\u001b[0m\n\u001b[1;32m----> 7\u001b[1;33m     \u001b[0mdata_train\u001b[0m \u001b[1;33m=\u001b[0m \u001b[0mpd\u001b[0m\u001b[1;33m.\u001b[0m\u001b[0mread_csv\u001b[0m\u001b[1;33m(\u001b[0m\u001b[0mpath\u001b[0m\u001b[1;33m)\u001b[0m\u001b[1;33m\u001b[0m\u001b[1;33m\u001b[0m\u001b[0m\n\u001b[0m\u001b[0;32m      8\u001b[0m     \u001b[0mdata_test\u001b[0m \u001b[1;33m=\u001b[0m \u001b[0mpd\u001b[0m\u001b[1;33m.\u001b[0m\u001b[0mread_csv\u001b[0m\u001b[1;33m(\u001b[0m\u001b[0mpath_test\u001b[0m\u001b[1;33m)\u001b[0m\u001b[1;33m\u001b[0m\u001b[1;33m\u001b[0m\u001b[0m\n\u001b[0;32m      9\u001b[0m \u001b[1;33m\u001b[0m\u001b[0m\n",
      "\u001b[1;31mNameError\u001b[0m: name 'pd' is not defined"
     ]
    }
   ],
   "source": [
    "X, y, X_test = engineer()"
   ]
  },
  {
   "cell_type": "markdown",
   "metadata": {},
   "source": [
    "### 5.2 - Nouvelles modélisations\n"
   ]
  },
  {
   "cell_type": "markdown",
   "metadata": {},
   "source": [
    "Nous pouvons désormais relancer les estimations avec ces nouvelles données."
   ]
  },
  {
   "cell_type": "markdown",
   "metadata": {},
   "source": [
    "#### 5.2.1 - Régression logistique\n"
   ]
  },
  {
   "cell_type": "code",
   "execution_count": null,
   "metadata": {},
   "outputs": [],
   "source": [
    "X.head()"
   ]
  },
  {
   "cell_type": "code",
   "execution_count": null,
   "metadata": {},
   "outputs": [],
   "source": [
    "logistic = LogisticRegression(max_iter = 1000, solver = 'newton-cg')\n",
    "logistic.fit(X, y)\n",
    "\n",
    "logistic_pred = logistic.predict(X_test)"
   ]
  },
  {
   "cell_type": "markdown",
   "metadata": {},
   "source": [
    "Comme effectué à plusieurs reprises dans cette analyse nous récupérons le fichier de soumission. "
   ]
  },
  {
   "cell_type": "code",
   "execution_count": null,
   "metadata": {},
   "outputs": [],
   "source": [
    "listes = list(zip(data_test['PassengerId'], logistic_pred))\n",
    "soumission = pd.DataFrame(listes, columns = ['PassengerId', 'Survived'])\n",
    "soumission.to_csv('submission.csv', header = True, index = False)"
   ]
  },
  {
   "cell_type": "markdown",
   "metadata": {},
   "source": [
    "**Score : 0,766**"
   ]
  },
  {
   "cell_type": "markdown",
   "metadata": {},
   "source": [
    "#### 5.2.2 - Arbre de décision (CART)\n"
   ]
  },
  {
   "cell_type": "code",
   "execution_count": null,
   "metadata": {},
   "outputs": [],
   "source": [
    "# Single CART\n",
    "\n",
    "tree = DecisionTreeClassifier(random_state = 1000,\n",
    "                              min_samples_split = 2,\n",
    "                              max_depth = None,\n",
    "                              class_weight = 'balanced',\n",
    "                              max_features = None)\n",
    "tree.fit(X, y)\n",
    "\n",
    "tree_pred  = tree.predict(X_test)"
   ]
  },
  {
   "cell_type": "markdown",
   "metadata": {},
   "source": [
    "Fichier de soumission :"
   ]
  },
  {
   "cell_type": "code",
   "execution_count": null,
   "metadata": {},
   "outputs": [],
   "source": [
    "listes = list(zip(data_test['PassengerId'], tree_pred))\n",
    "soumission = pd.DataFrame(listes, columns = ['PassengerId', 'Survived'])\n",
    "soumission.to_csv('submission.csv', header = True, index = False)"
   ]
  },
  {
   "cell_type": "markdown",
   "metadata": {},
   "source": [
    "**Score : 0,715**"
   ]
  },
  {
   "cell_type": "markdown",
   "metadata": {},
   "source": [
    "#### 5.2.3 - Forêt aléatoire\n"
   ]
  },
  {
   "cell_type": "code",
   "execution_count": null,
   "metadata": {},
   "outputs": [],
   "source": [
    "RF = RandomForestClassifier(n_estimators = 1000,\n",
    "                            max_depth = None,\n",
    "                            min_samples_split = 2,\n",
    "                            class_weight = \"balanced\",\n",
    "                            random_state = 1000,\n",
    "                            max_features = None)\n",
    "\n",
    "RF.fit(X, y)\n",
    "\n",
    "RF_pred  = RF.predict(X_test)"
   ]
  },
  {
   "cell_type": "markdown",
   "metadata": {},
   "source": [
    "Fichier de soumission :"
   ]
  },
  {
   "cell_type": "code",
   "execution_count": null,
   "metadata": {},
   "outputs": [],
   "source": [
    "listes = list(zip(data_test['PassengerId'], RF_pred))\n",
    "soumission = pd.DataFrame(listes, columns = ['PassengerId', 'Survived'])\n",
    "soumission.to_csv('submission.csv', header = True, index = False)"
   ]
  },
  {
   "cell_type": "markdown",
   "metadata": {},
   "source": [
    "**Score : 0,744**"
   ]
  },
  {
   "cell_type": "markdown",
   "metadata": {},
   "source": [
    "#### 5.2.4 - Grid Search et Forêt aléatoire\n"
   ]
  },
  {
   "cell_type": "code",
   "execution_count": null,
   "metadata": {},
   "outputs": [],
   "source": [
    "# Grid Search CV Random Forest\n",
    "parameters = {'max_features' : [1, 2, 3, 4, 5, 6, 7, 8],\n",
    "             'n_estimators' : [10, 100, 1000, 5000],\n",
    "             'max_depth' : [None, 1, 5, 10, 20]}\n",
    "\n",
    "grid_RF = RandomForestClassifier()\n",
    "grid_RF = GridSearchCV(RF, parameters, scoring = 'f1_macro', cv = 10)\n",
    "\n",
    "grid_RF.fit(X, y)\n",
    "\n",
    "grid_RF_pred  = grid_RF.predict(X_test)"
   ]
  },
  {
   "cell_type": "markdown",
   "metadata": {},
   "source": [
    "Fichier de soumission : "
   ]
  },
  {
   "cell_type": "code",
   "execution_count": null,
   "metadata": {},
   "outputs": [],
   "source": [
    "listes = list(zip(data_test['PassengerId'], grid_RF_pred))\n",
    "soumission = pd.DataFrame(listes, columns = ['PassengerId', 'Survived'])\n",
    "soumission.to_csv('submission.csv', header = True, index = False)"
   ]
  },
  {
   "cell_type": "markdown",
   "metadata": {},
   "source": [
    "**Score : 0,766**"
   ]
  },
  {
   "cell_type": "markdown",
   "metadata": {},
   "source": [
    "#### 5.2.5 - Gradient Boosting\n"
   ]
  },
  {
   "cell_type": "code",
   "execution_count": null,
   "metadata": {},
   "outputs": [],
   "source": [
    "boost_RF = GradientBoostingClassifier(n_estimators = 1000,\n",
    "                                     learning_rate = 0.1,\n",
    "                                     max_depth = None,\n",
    "                                     random_state = 1000)\n",
    "\n",
    "boost_RF.fit(X, y)\n",
    "\n",
    "boost_RF_pred  = boost_RF.predict(X_test)"
   ]
  },
  {
   "cell_type": "markdown",
   "metadata": {},
   "source": [
    "Fichier de soumission : "
   ]
  },
  {
   "cell_type": "code",
   "execution_count": null,
   "metadata": {},
   "outputs": [],
   "source": [
    "listes = list(zip(data_test['PassengerId'], boost_RF_pred))\n",
    "soumission = pd.DataFrame(listes, columns = ['PassengerId', 'Survived'])\n",
    "soumission.to_csv('submission.csv', header = True, index = False)"
   ]
  },
  {
   "cell_type": "markdown",
   "metadata": {},
   "source": [
    "**Score : 0,722**"
   ]
  },
  {
   "cell_type": "markdown",
   "metadata": {},
   "source": [
    "- Pour aller plus loin : "
   ]
  },
  {
   "cell_type": "code",
   "execution_count": null,
   "metadata": {},
   "outputs": [],
   "source": [
    "#GBoost\n",
    "\n",
    "xg_reg = xgb.XGBRegressor(objective = 'reg:linear', colsample_bytree= 0.3, learning_rate = 0.1, \n",
    "                          max_depth = None, alpha = 10, n_estimators = 10)\n",
    "xg_reg.fit(X,y)\n",
    "xg_reg_predict = xg_reg.predict(X_test)"
   ]
  },
  {
   "cell_type": "markdown",
   "metadata": {},
   "source": [
    "Fichier de soumission : "
   ]
  },
  {
   "cell_type": "code",
   "execution_count": null,
   "metadata": {},
   "outputs": [],
   "source": [
    "listes = list(zip(data_test['PassengerId'], xg_reg_predict))\n",
    "soumission = pd.DataFrame(listes, columns = ['PassengerId', 'Survived'])\n",
    "soumission.to_csv('submission.csv', header = True, index = False)"
   ]
  },
  {
   "cell_type": "markdown",
   "metadata": {},
   "source": [
    "**Score : 0,739**"
   ]
  },
  {
   "cell_type": "markdown",
   "metadata": {},
   "source": [
    "#### 5.2.6 - Réseaux de neurones\n"
   ]
  },
  {
   "cell_type": "code",
   "execution_count": null,
   "metadata": {},
   "outputs": [],
   "source": [
    "# Neural Net\n",
    "y = np.asarray(y)\n",
    "X = np.asarray(X)"
   ]
  },
  {
   "cell_type": "code",
   "execution_count": null,
   "metadata": {},
   "outputs": [],
   "source": [
    "# Neural Net\n",
    "\n",
    "MLP = tf.keras.Sequential([\n",
    "    tf.keras.layers.Dense(50, activation = 'relu'), # 1 hidden layer w/ 10 neurons\n",
    "    tf.keras.layers.Dense(10, activation = 'relu'), # 1 hidden layer w/ 10 neurons\n",
    "    tf.keras.layers.Dense(2)])\n",
    "\n",
    "MLP.compile(optimizer = 'adam',\n",
    "                  loss = tf.keras.losses.SparseCategoricalCrossentropy(from_logits=True),\n",
    "                  metrics = ['accuracy'])\n",
    "\n",
    "MLP.fit(X, y, epochs = 10)\n",
    "\n",
    "MLP_pred = MLP.predict(X_test)"
   ]
  },
  {
   "cell_type": "markdown",
   "metadata": {},
   "source": [
    "Fichier de soumission : "
   ]
  },
  {
   "cell_type": "code",
   "execution_count": null,
   "metadata": {},
   "outputs": [],
   "source": [
    "listes = list(zip(data_test['PassengerId'], MLP_pred))\n",
    "soumission = pd.DataFrame(listes, columns = ['PassengerId', 'Survived'])\n",
    "soumission.to_csv('submission.csv', header = True, index = False)"
   ]
  },
  {
   "cell_type": "markdown",
   "metadata": {},
   "source": [
    "**Score : 0,682**"
   ]
  },
  {
   "cell_type": "markdown",
   "metadata": {},
   "source": [
    "## 6 - Sélection du modèle final\n"
   ]
  },
  {
   "cell_type": "markdown",
   "metadata": {},
   "source": [
    "Après avoir testé plusieurs modèles, nous nous apercevons que les modifications qui ont été apportées dans la fonction engineer( ) n'ont pas forcément permis d'obtenir un score plus élevé. En effet, dans cette seconde partie de modélisation, nous avons qu'un seul modèle qui semble mieux que les autres et il s'agit du modèle **\"Grid Search et Forêt aléatoire\"**. La fonction \"Grid Search\" nous permet d'optimiser les modélisations de forêts aléatoires. Le score pour ce dernier est de **0,766**. \n",
    "\n",
    "Cependant la **régression logistique** semble aussi être un des meilleurs modèles puisque, que ce soit avec ou sans modification, le score pour chacun d'entre eux est également de **0,766**. Nous avons donc un modèle de régression logistique relativement performant. "
   ]
  }
 ],
 "metadata": {
  "kernelspec": {
   "display_name": "Python 3",
   "language": "python",
   "name": "python3"
  },
  "language_info": {
   "codemirror_mode": {
    "name": "ipython",
    "version": 3
   },
   "file_extension": ".py",
   "mimetype": "text/x-python",
   "name": "python",
   "nbconvert_exporter": "python",
   "pygments_lexer": "ipython3",
   "version": "3.7.7"
  }
 },
 "nbformat": 4,
 "nbformat_minor": 4
}
